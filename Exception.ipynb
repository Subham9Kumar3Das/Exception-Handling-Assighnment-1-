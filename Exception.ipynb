{
 "cells": [
  {
   "cell_type": "markdown",
   "id": "58463b71-acdb-4c85-9807-430476c52c6f",
   "metadata": {
    "tags": []
   },
   "source": [
    "### 1. What is Exception in Python? Write the difference between Exception and Syntax Error."
   ]
  },
  {
   "cell_type": "markdown",
   "id": "631b6487-d1d0-455c-9085-8a6ce0a2ff92",
   "metadata": {
    "tags": []
   },
   "source": [
    "* Exception is an error that occurs while running a programme.\n",
    "  * Exception is an error like missing paranthesis,dividing a number by zero. And Syntax Error is a error when we violate the rules to write a programme as a result our system couldn't understand our language."
   ]
  },
  {
   "cell_type": "markdown",
   "id": "4a622584-22a5-4638-a408-f3005bea4821",
   "metadata": {
    "jp-MarkdownHeadingCollapsed": true,
    "tags": []
   },
   "source": [
    "### 2. What happens when a exception is not handled ? Give an example. "
   ]
  },
  {
   "cell_type": "markdown",
   "id": "e2efc49e-bdbe-477f-9bee-cdd100c0b492",
   "metadata": {},
   "source": [
    " * When an Exception is not handled it throws out exception and throews out error while running a programme."
   ]
  },
  {
   "cell_type": "code",
   "execution_count": 2,
   "id": "e8ccbab8-a023-4305-9087-14521dd6cf94",
   "metadata": {},
   "outputs": [
    {
     "ename": "ZeroDivisionError",
     "evalue": "division by zero",
     "output_type": "error",
     "traceback": [
      "\u001b[0;31m---------------------------------------------------------------------------\u001b[0m",
      "\u001b[0;31mZeroDivisionError\u001b[0m                         Traceback (most recent call last)",
      "Cell \u001b[0;32mIn[2], line 2\u001b[0m\n\u001b[1;32m      1\u001b[0m a\u001b[38;5;241m=\u001b[39m\u001b[38;5;241m4\u001b[39m\n\u001b[0;32m----> 2\u001b[0m \u001b[38;5;28mprint\u001b[39m(\u001b[43ma\u001b[49m\u001b[38;5;241;43m/\u001b[39;49m\u001b[38;5;241;43m0\u001b[39;49m)\n",
      "\u001b[0;31mZeroDivisionError\u001b[0m: division by zero"
     ]
    }
   ],
   "source": [
    "a=4\n",
    "print(a/0)"
   ]
  },
  {
   "cell_type": "code",
   "execution_count": 4,
   "id": "b20f8caa-62d6-49a5-98f5-ccc3cbe1cb39",
   "metadata": {},
   "outputs": [
    {
     "name": "stdout",
     "output_type": "stream",
     "text": [
      "division by zero\n"
     ]
    }
   ],
   "source": [
    "try:\n",
    "    a=4\n",
    "    print(a/0)\n",
    "except Exception as e:\n",
    "    print(e)"
   ]
  },
  {
   "cell_type": "markdown",
   "id": "6be43818-e53d-4b96-a7ff-70dca4210cc1",
   "metadata": {
    "jp-MarkdownHeadingCollapsed": true,
    "tags": []
   },
   "source": [
    "### 3. Which python statements are used to handle and catch exception ? Explain with an eg."
   ]
  },
  {
   "cell_type": "markdown",
   "id": "ba973887-5f28-4cd9-ae6d-d17a83886b7d",
   "metadata": {},
   "source": [
    "* try and except statements are used to handle and catch exception"
   ]
  },
  {
   "cell_type": "code",
   "execution_count": 6,
   "id": "2138efc6-47f5-40a7-8eb1-b6953a8d043b",
   "metadata": {},
   "outputs": [
    {
     "name": "stdout",
     "output_type": "stream",
     "text": [
      "division by zero\n"
     ]
    }
   ],
   "source": [
    "try:\n",
    "    print(4/0)\n",
    "except Exception as e:\n",
    "    print(e)"
   ]
  },
  {
   "cell_type": "markdown",
   "id": "28ca9b2a-6e0d-4842-89cc-8e9140180cf2",
   "metadata": {
    "tags": []
   },
   "source": [
    "### Explain with an eg:"
   ]
  },
  {
   "cell_type": "markdown",
   "id": "09ce6ba2-342e-4d8a-ae15-41389fee5b1e",
   "metadata": {},
   "source": [
    "* try and else\n",
    "* Finally"
   ]
  },
  {
   "cell_type": "code",
   "execution_count": 2,
   "id": "7710d702-cfd0-405a-859b-daea3f9cc2c9",
   "metadata": {},
   "outputs": [
    {
     "name": "stdout",
     "output_type": "stream",
     "text": [
      "division by zero\n",
      "This is the answer for both try,else and finally block.\n"
     ]
    }
   ],
   "source": [
    "try:\n",
    "    a=4\n",
    "    b=0\n",
    "    c=a/b\n",
    "except Exception as e:\n",
    "    print(e)\n",
    "else:\n",
    "    print(c)\n",
    "finally:#Executes even if error raises.\n",
    "    print(\"This is the answer for both try,else and finally block.\")"
   ]
  },
  {
   "cell_type": "markdown",
   "id": "e1d54be1-3638-4023-bfe3-5473e3442a11",
   "metadata": {},
   "source": [
    "* raise"
   ]
  },
  {
   "cell_type": "markdown",
   "id": "ca075bcc-99b9-4713-a0d4-c60063216402",
   "metadata": {},
   "source": [
    "< raise is a keyword use to raise error that is customed. >"
   ]
  },
  {
   "cell_type": "code",
   "execution_count": 34,
   "id": "714a4d73-0fa1-4834-8800-73bd75eda049",
   "metadata": {},
   "outputs": [
    {
     "name": "stdin",
     "output_type": "stream",
     "text": [
      "Enter your Age:  -9\n"
     ]
    },
    {
     "name": "stdout",
     "output_type": "stream",
     "text": [
      "Entered Age is negative\n"
     ]
    }
   ],
   "source": [
    "class ValidateAge(Exception):\n",
    "    def __init__(self, msg):\n",
    "        self.msg = msg\n",
    "\n",
    "def validate_age(age):\n",
    "    if age < 0:\n",
    "        raise ValidateAge(\"Entered Age is negative\")\n",
    "    else:\n",
    "        print(\"ok\")\n",
    "\n",
    "try:\n",
    "    age = int(input(\"Enter your Age: \"))\n",
    "    validate_age(age)\n",
    "except ValidateAge as e:\n",
    "    print(e)\n"
   ]
  },
  {
   "cell_type": "markdown",
   "id": "474ba339-eda6-49a6-8717-5e1188980cec",
   "metadata": {},
   "source": [
    "### 5. What are custom exception in python?Why do we need custom exception ?Explain with an eg."
   ]
  },
  {
   "cell_type": "markdown",
   "id": "3c381ef1-ebe7-41cd-ad76-a822e8752232",
   "metadata": {},
   "source": [
    "Custom exception are the exceptions that are raised by us for our programme to give the desired result.So we need custom exception."
   ]
  },
  {
   "cell_type": "code",
   "execution_count": 24,
   "id": "e004f31b-897b-482f-8dbc-4409cc398b21",
   "metadata": {},
   "outputs": [],
   "source": [
    "class validateage(Exception):\n",
    "    \n",
    "    def __init__(self , msg) : \n",
    "        self.msg = msg"
   ]
  },
  {
   "cell_type": "code",
   "execution_count": 26,
   "id": "2083ba63-3b7e-4487-a760-e652eaf18df9",
   "metadata": {},
   "outputs": [],
   "source": [
    "def validaetage(age) : \n",
    "    if age < 0 :\n",
    "        raise validateage(\"entered age is negative \" )\n",
    "    elif age > 200 : \n",
    "        raise validateage(\"enterd age is very very high \" )\n",
    "    else :\n",
    "        print(\"age is valid\" )"
   ]
  },
  {
   "cell_type": "code",
   "execution_count": 27,
   "id": "6d7eed4d-84a8-4ac5-a384-fc9630c083d3",
   "metadata": {},
   "outputs": [
    {
     "name": "stdin",
     "output_type": "stream",
     "text": [
      "enter your age -91\n"
     ]
    },
    {
     "name": "stdout",
     "output_type": "stream",
     "text": [
      "entered age is negative \n"
     ]
    }
   ],
   "source": [
    "try :\n",
    "    age = int(input(\"enter your age\" ))\n",
    "    validaetage(age)\n",
    "except validateage as e :\n",
    "    print(e)"
   ]
  },
  {
   "cell_type": "code",
   "execution_count": null,
   "id": "c34d63df-36b7-43f2-91aa-7942fd1ebe24",
   "metadata": {},
   "outputs": [],
   "source": []
  }
 ],
 "metadata": {
  "kernelspec": {
   "display_name": "Python 3 (ipykernel)",
   "language": "python",
   "name": "python3"
  },
  "language_info": {
   "codemirror_mode": {
    "name": "ipython",
    "version": 3
   },
   "file_extension": ".py",
   "mimetype": "text/x-python",
   "name": "python",
   "nbconvert_exporter": "python",
   "pygments_lexer": "ipython3",
   "version": "3.10.8"
  }
 },
 "nbformat": 4,
 "nbformat_minor": 5
}
